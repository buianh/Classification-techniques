{
 "cells": [
  {
   "cell_type": "markdown",
   "metadata": {},
   "source": [
    "# Classification models - Mai Anh Bui"
   ]
  },
  {
   "cell_type": "markdown",
   "metadata": {},
   "source": [
    "Author: Mai Anh Bui\n",
    "\n"
   ]
  },
  {
   "cell_type": "code",
   "execution_count": 1,
   "metadata": {},
   "outputs": [],
   "source": [
    "import pandas as pd\n",
    "import numpy as np\n",
    "from sklearn.datasets import make_classification\n",
    "from sklearn.linear_model import LogisticRegression\n",
    "from matplotlib import pyplot\n",
    "from sklearn.tree import DecisionTreeClassifier\n",
    "from sklearn import metrics\n",
    "from sklearn import tree\n",
    "from sklearn.ensemble import RandomForestClassifier\n",
    "import xgboost\n",
    "from xgboost import XGBClassifier\n",
    "from sklearn.model_selection import train_test_split\n",
    "from sklearn.metrics import roc_curve"
   ]
  },
  {
   "cell_type": "code",
   "execution_count": 2,
   "metadata": {},
   "outputs": [],
   "source": [
    "data = pd.read_excel('CCIHE2018-PublicDataFile.xlsx',sheet_name='Data')  \n",
    "data = data.loc[(data.BASIC2018 == 15) | (data.BASIC2018 == 16)]\n",
    "data['class']=data['BASIC2018']"
   ]
  },
  {
   "cell_type": "code",
   "execution_count": 4,
   "metadata": {},
   "outputs": [
    {
     "data": {
      "text/html": [
       "<div>\n",
       "<style scoped>\n",
       "    .dataframe tbody tr th:only-of-type {\n",
       "        vertical-align: middle;\n",
       "    }\n",
       "\n",
       "    .dataframe tbody tr th {\n",
       "        vertical-align: top;\n",
       "    }\n",
       "\n",
       "    .dataframe thead th {\n",
       "        text-align: right;\n",
       "    }\n",
       "</style>\n",
       "<table border=\"1\" class=\"dataframe\">\n",
       "  <thead>\n",
       "    <tr style=\"text-align: right;\">\n",
       "      <th></th>\n",
       "      <th>UNITID</th>\n",
       "      <th>NAME</th>\n",
       "      <th>CITY</th>\n",
       "      <th>STABBR</th>\n",
       "      <th>CC2000</th>\n",
       "      <th>BASIC2005</th>\n",
       "      <th>BASIC2010</th>\n",
       "      <th>BASIC2015</th>\n",
       "      <th>BASIC2018</th>\n",
       "      <th>IPUG2018</th>\n",
       "      <th>...</th>\n",
       "      <th>NSAT</th>\n",
       "      <th>NACT</th>\n",
       "      <th>NSATACT</th>\n",
       "      <th>SATV25</th>\n",
       "      <th>SATM25</th>\n",
       "      <th>SATCMB25</th>\n",
       "      <th>SATACTEQ25</th>\n",
       "      <th>ACTCMP25</th>\n",
       "      <th>ACTFINAL</th>\n",
       "      <th>class</th>\n",
       "    </tr>\n",
       "  </thead>\n",
       "  <tbody>\n",
       "    <tr>\n",
       "      <th>29</th>\n",
       "      <td>200697</td>\n",
       "      <td>Air Force Institute of Technology-Graduate Sch...</td>\n",
       "      <td>Wright-Patterson AFB</td>\n",
       "      <td>OH</td>\n",
       "      <td>59</td>\n",
       "      <td>-3</td>\n",
       "      <td>17</td>\n",
       "      <td>17</td>\n",
       "      <td>16</td>\n",
       "      <td>0</td>\n",
       "      <td>...</td>\n",
       "      <td>0</td>\n",
       "      <td>0</td>\n",
       "      <td>0</td>\n",
       "      <td>0</td>\n",
       "      <td>0</td>\n",
       "      <td>0</td>\n",
       "      <td>0</td>\n",
       "      <td>0</td>\n",
       "      <td>0.000000</td>\n",
       "      <td>16</td>\n",
       "    </tr>\n",
       "    <tr>\n",
       "      <th>118</th>\n",
       "      <td>131159</td>\n",
       "      <td>American University</td>\n",
       "      <td>Washington</td>\n",
       "      <td>DC</td>\n",
       "      <td>15</td>\n",
       "      <td>17</td>\n",
       "      <td>17</td>\n",
       "      <td>16</td>\n",
       "      <td>16</td>\n",
       "      <td>11</td>\n",
       "      <td>...</td>\n",
       "      <td>881</td>\n",
       "      <td>693</td>\n",
       "      <td>1574</td>\n",
       "      <td>610</td>\n",
       "      <td>570</td>\n",
       "      <td>1180</td>\n",
       "      <td>24</td>\n",
       "      <td>26</td>\n",
       "      <td>24.880559</td>\n",
       "      <td>16</td>\n",
       "    </tr>\n",
       "    <tr>\n",
       "      <th>192</th>\n",
       "      <td>448886</td>\n",
       "      <td>Arizona State University-Downtown Phoenix</td>\n",
       "      <td>Phoenix</td>\n",
       "      <td>AZ</td>\n",
       "      <td>-3</td>\n",
       "      <td>-3</td>\n",
       "      <td>-3</td>\n",
       "      <td>17</td>\n",
       "      <td>16</td>\n",
       "      <td>20</td>\n",
       "      <td>...</td>\n",
       "      <td>629</td>\n",
       "      <td>922</td>\n",
       "      <td>1551</td>\n",
       "      <td>540</td>\n",
       "      <td>530</td>\n",
       "      <td>1070</td>\n",
       "      <td>21</td>\n",
       "      <td>21</td>\n",
       "      <td>21.000000</td>\n",
       "      <td>16</td>\n",
       "    </tr>\n",
       "    <tr>\n",
       "      <th>194</th>\n",
       "      <td>483124</td>\n",
       "      <td>Arizona State University-Skysong</td>\n",
       "      <td>Scottsdale</td>\n",
       "      <td>AZ</td>\n",
       "      <td>-3</td>\n",
       "      <td>-3</td>\n",
       "      <td>-3</td>\n",
       "      <td>17</td>\n",
       "      <td>16</td>\n",
       "      <td>13</td>\n",
       "      <td>...</td>\n",
       "      <td>0</td>\n",
       "      <td>0</td>\n",
       "      <td>0</td>\n",
       "      <td>0</td>\n",
       "      <td>0</td>\n",
       "      <td>0</td>\n",
       "      <td>0</td>\n",
       "      <td>0</td>\n",
       "      <td>0.000000</td>\n",
       "      <td>16</td>\n",
       "    </tr>\n",
       "    <tr>\n",
       "      <th>195</th>\n",
       "      <td>104151</td>\n",
       "      <td>Arizona State University-Tempe</td>\n",
       "      <td>Tempe</td>\n",
       "      <td>AZ</td>\n",
       "      <td>15</td>\n",
       "      <td>15</td>\n",
       "      <td>15</td>\n",
       "      <td>15</td>\n",
       "      <td>15</td>\n",
       "      <td>14</td>\n",
       "      <td>...</td>\n",
       "      <td>4284</td>\n",
       "      <td>4796</td>\n",
       "      <td>9080</td>\n",
       "      <td>560</td>\n",
       "      <td>560</td>\n",
       "      <td>1120</td>\n",
       "      <td>22</td>\n",
       "      <td>22</td>\n",
       "      <td>22.000000</td>\n",
       "      <td>15</td>\n",
       "    </tr>\n",
       "    <tr>\n",
       "      <th>...</th>\n",
       "      <td>...</td>\n",
       "      <td>...</td>\n",
       "      <td>...</td>\n",
       "      <td>...</td>\n",
       "      <td>...</td>\n",
       "      <td>...</td>\n",
       "      <td>...</td>\n",
       "      <td>...</td>\n",
       "      <td>...</td>\n",
       "      <td>...</td>\n",
       "      <td>...</td>\n",
       "      <td>...</td>\n",
       "      <td>...</td>\n",
       "      <td>...</td>\n",
       "      <td>...</td>\n",
       "      <td>...</td>\n",
       "      <td>...</td>\n",
       "      <td>...</td>\n",
       "      <td>...</td>\n",
       "      <td>...</td>\n",
       "      <td>...</td>\n",
       "    </tr>\n",
       "    <tr>\n",
       "      <th>4231</th>\n",
       "      <td>156125</td>\n",
       "      <td>Wichita State University</td>\n",
       "      <td>Wichita</td>\n",
       "      <td>KS</td>\n",
       "      <td>16</td>\n",
       "      <td>16</td>\n",
       "      <td>16</td>\n",
       "      <td>16</td>\n",
       "      <td>16</td>\n",
       "      <td>17</td>\n",
       "      <td>...</td>\n",
       "      <td>88</td>\n",
       "      <td>1420</td>\n",
       "      <td>1508</td>\n",
       "      <td>500</td>\n",
       "      <td>500</td>\n",
       "      <td>1000</td>\n",
       "      <td>19</td>\n",
       "      <td>20</td>\n",
       "      <td>19.941645</td>\n",
       "      <td>16</td>\n",
       "    </tr>\n",
       "    <tr>\n",
       "      <th>4276</th>\n",
       "      <td>168421</td>\n",
       "      <td>Worcester Polytechnic Institute</td>\n",
       "      <td>Worcester</td>\n",
       "      <td>MA</td>\n",
       "      <td>16</td>\n",
       "      <td>17</td>\n",
       "      <td>17</td>\n",
       "      <td>16</td>\n",
       "      <td>16</td>\n",
       "      <td>17</td>\n",
       "      <td>...</td>\n",
       "      <td>0</td>\n",
       "      <td>0</td>\n",
       "      <td>0</td>\n",
       "      <td>0</td>\n",
       "      <td>0</td>\n",
       "      <td>0</td>\n",
       "      <td>0</td>\n",
       "      <td>0</td>\n",
       "      <td>0.000000</td>\n",
       "      <td>16</td>\n",
       "    </tr>\n",
       "    <tr>\n",
       "      <th>4284</th>\n",
       "      <td>206604</td>\n",
       "      <td>Wright State University-Main Campus</td>\n",
       "      <td>Dayton</td>\n",
       "      <td>OH</td>\n",
       "      <td>16</td>\n",
       "      <td>16</td>\n",
       "      <td>16</td>\n",
       "      <td>17</td>\n",
       "      <td>16</td>\n",
       "      <td>16</td>\n",
       "      <td>...</td>\n",
       "      <td>227</td>\n",
       "      <td>2117</td>\n",
       "      <td>2344</td>\n",
       "      <td>490</td>\n",
       "      <td>490</td>\n",
       "      <td>980</td>\n",
       "      <td>18</td>\n",
       "      <td>19</td>\n",
       "      <td>18.903157</td>\n",
       "      <td>16</td>\n",
       "    </tr>\n",
       "    <tr>\n",
       "      <th>4292</th>\n",
       "      <td>130794</td>\n",
       "      <td>Yale University</td>\n",
       "      <td>New Haven</td>\n",
       "      <td>CT</td>\n",
       "      <td>15</td>\n",
       "      <td>15</td>\n",
       "      <td>15</td>\n",
       "      <td>15</td>\n",
       "      <td>15</td>\n",
       "      <td>8</td>\n",
       "      <td>...</td>\n",
       "      <td>967</td>\n",
       "      <td>907</td>\n",
       "      <td>1874</td>\n",
       "      <td>730</td>\n",
       "      <td>730</td>\n",
       "      <td>1460</td>\n",
       "      <td>33</td>\n",
       "      <td>32</td>\n",
       "      <td>32.516009</td>\n",
       "      <td>15</td>\n",
       "    </tr>\n",
       "    <tr>\n",
       "      <th>4317</th>\n",
       "      <td>197708</td>\n",
       "      <td>Yeshiva University</td>\n",
       "      <td>New York</td>\n",
       "      <td>NY</td>\n",
       "      <td>15</td>\n",
       "      <td>15</td>\n",
       "      <td>15</td>\n",
       "      <td>16</td>\n",
       "      <td>16</td>\n",
       "      <td>13</td>\n",
       "      <td>...</td>\n",
       "      <td>330</td>\n",
       "      <td>270</td>\n",
       "      <td>600</td>\n",
       "      <td>600</td>\n",
       "      <td>560</td>\n",
       "      <td>1160</td>\n",
       "      <td>24</td>\n",
       "      <td>23</td>\n",
       "      <td>23.550000</td>\n",
       "      <td>16</td>\n",
       "    </tr>\n",
       "  </tbody>\n",
       "</table>\n",
       "<p>260 rows × 96 columns</p>\n",
       "</div>"
      ],
      "text/plain": [
       "      UNITID                                               NAME  \\\n",
       "29    200697  Air Force Institute of Technology-Graduate Sch...   \n",
       "118   131159                                American University   \n",
       "192   448886          Arizona State University-Downtown Phoenix   \n",
       "194   483124                   Arizona State University-Skysong   \n",
       "195   104151                     Arizona State University-Tempe   \n",
       "...      ...                                                ...   \n",
       "4231  156125                           Wichita State University   \n",
       "4276  168421                    Worcester Polytechnic Institute   \n",
       "4284  206604                Wright State University-Main Campus   \n",
       "4292  130794                                    Yale University   \n",
       "4317  197708                                 Yeshiva University   \n",
       "\n",
       "                      CITY STABBR  CC2000  BASIC2005  BASIC2010  BASIC2015  \\\n",
       "29    Wright-Patterson AFB     OH      59         -3         17         17   \n",
       "118             Washington     DC      15         17         17         16   \n",
       "192                Phoenix     AZ      -3         -3         -3         17   \n",
       "194             Scottsdale     AZ      -3         -3         -3         17   \n",
       "195                  Tempe     AZ      15         15         15         15   \n",
       "...                    ...    ...     ...        ...        ...        ...   \n",
       "4231               Wichita     KS      16         16         16         16   \n",
       "4276             Worcester     MA      16         17         17         16   \n",
       "4284                Dayton     OH      16         16         16         17   \n",
       "4292             New Haven     CT      15         15         15         15   \n",
       "4317              New York     NY      15         15         15         16   \n",
       "\n",
       "      BASIC2018  IPUG2018  ...  NSAT  NACT  NSATACT  SATV25  SATM25  SATCMB25  \\\n",
       "29           16         0  ...     0     0        0       0       0         0   \n",
       "118          16        11  ...   881   693     1574     610     570      1180   \n",
       "192          16        20  ...   629   922     1551     540     530      1070   \n",
       "194          16        13  ...     0     0        0       0       0         0   \n",
       "195          15        14  ...  4284  4796     9080     560     560      1120   \n",
       "...         ...       ...  ...   ...   ...      ...     ...     ...       ...   \n",
       "4231         16        17  ...    88  1420     1508     500     500      1000   \n",
       "4276         16        17  ...     0     0        0       0       0         0   \n",
       "4284         16        16  ...   227  2117     2344     490     490       980   \n",
       "4292         15         8  ...   967   907     1874     730     730      1460   \n",
       "4317         16        13  ...   330   270      600     600     560      1160   \n",
       "\n",
       "      SATACTEQ25  ACTCMP25   ACTFINAL  class  \n",
       "29             0         0   0.000000     16  \n",
       "118           24        26  24.880559     16  \n",
       "192           21        21  21.000000     16  \n",
       "194            0         0   0.000000     16  \n",
       "195           22        22  22.000000     15  \n",
       "...          ...       ...        ...    ...  \n",
       "4231          19        20  19.941645     16  \n",
       "4276           0         0   0.000000     16  \n",
       "4284          18        19  18.903157     16  \n",
       "4292          33        32  32.516009     15  \n",
       "4317          24        23  23.550000     16  \n",
       "\n",
       "[260 rows x 96 columns]"
      ]
     },
     "execution_count": 4,
     "metadata": {},
     "output_type": "execute_result"
    }
   ],
   "source": [
    "data\n",
    "#data.shape"
   ]
  },
  {
   "cell_type": "markdown",
   "metadata": {},
   "source": [
    "## List of features\n"
   ]
  },
  {
   "cell_type": "code",
   "execution_count": 3,
   "metadata": {
    "scrolled": true
   },
   "outputs": [],
   "source": [
    "X_train = data.loc[:,['ACTCAT','ACTFINAL','ANENR1617','OBEREG','DOCOTHDEG',\n",
    "                      'DOCPPDEG','DOCRESFLAG','DOCRSDEG','DRSA&S','DRSPROF',\n",
    "                      'FACNUM','NSAT','PDNFRSTAFF','S&ER&D','NONS&ER&D',\n",
    "                      'HUM_RSD','SOCSC_RSD','STEM_RSD','OTHER_RSD','TOTDEG']]\n",
    "y_train = data.loc[:,'class']\n"
   ]
  },
  {
   "cell_type": "code",
   "execution_count": 4,
   "metadata": {
    "scrolled": true
   },
   "outputs": [
    {
     "name": "stdout",
     "output_type": "stream",
     "text": [
      "       Feature\n",
      "0       ACTCAT\n",
      "1     ACTFINAL\n",
      "2    ANENR1617\n",
      "3       OBEREG\n",
      "4    DOCOTHDEG\n",
      "5     DOCPPDEG\n",
      "6   DOCRESFLAG\n",
      "7     DOCRSDEG\n",
      "8       DRSA&S\n",
      "9      DRSPROF\n",
      "10      FACNUM\n",
      "11        NSAT\n",
      "12  PDNFRSTAFF\n",
      "13      S&ER&D\n",
      "14   NONS&ER&D\n",
      "15     HUM_RSD\n",
      "16   SOCSC_RSD\n",
      "17    STEM_RSD\n",
      "18   OTHER_RSD\n",
      "19      TOTDEG\n"
     ]
    }
   ],
   "source": [
    "feature_table = {'Feature': X_train.columns}\n",
    "feature_table_df = pd.DataFrame(feature_table, columns = ['Feature'])\n",
    "print (feature_table_df)"
   ]
  },
  {
   "cell_type": "markdown",
   "metadata": {},
   "source": [
    "# Decision tree"
   ]
  },
  {
   "cell_type": "code",
   "execution_count": 5,
   "metadata": {},
   "outputs": [],
   "source": [
    "X_train_dt = X_train.replace(np.nan,0)\n",
    "y_train_dt = y_train.replace(np.nan,0)"
   ]
  },
  {
   "cell_type": "code",
   "execution_count": 6,
   "metadata": {},
   "outputs": [
    {
     "name": "stdout",
     "output_type": "stream",
     "text": [
      "Feature: 0, Score: 0.00000\n",
      "Feature: 1, Score: 0.01456\n",
      "Feature: 2, Score: 0.00000\n",
      "Feature: 3, Score: 0.00000\n",
      "Feature: 4, Score: 0.00000\n",
      "Feature: 5, Score: 0.00000\n",
      "Feature: 6, Score: 0.00000\n",
      "Feature: 7, Score: 0.00000\n",
      "Feature: 8, Score: 0.81156\n",
      "Feature: 9, Score: 0.00000\n",
      "Feature: 10, Score: 0.00000\n",
      "Feature: 11, Score: 0.00000\n",
      "Feature: 12, Score: 0.09438\n",
      "Feature: 13, Score: 0.00000\n",
      "Feature: 14, Score: 0.06046\n",
      "Feature: 15, Score: 0.01904\n",
      "Feature: 16, Score: 0.00000\n",
      "Feature: 17, Score: 0.00000\n",
      "Feature: 18, Score: 0.00000\n",
      "Feature: 19, Score: 0.00000\n"
     ]
    },
    {
     "data": {
      "image/png": "[encoded data removed]",
      "text/plain": [
       "<Figure size 640x480 with 1 Axes>"
      ]
     },
     "metadata": {},
     "output_type": "display_data"
    }
   ],
   "source": [
    "model_dt = DecisionTreeClassifier()\n",
    "# fit the model\n",
    "model_dt.fit(X_train_dt, y_train_dt)\n",
    "# get importance\n",
    "dt_importance = model_dt.feature_importances_\n",
    "# summarize feature importance\n",
    "for i,v in enumerate(dt_importance):\n",
    "\tprint('Feature: %0d, Score: %.5f' % (i,v))\n",
    "# plot feature importance\n",
    "pyplot.bar([x for x in range(len(dt_importance))], dt_importance)\n",
    "pyplot.show()\n",
    "\n"
   ]
  },
  {
   "cell_type": "code",
   "execution_count": 9,
   "metadata": {},
   "outputs": [],
   "source": [
    "fn=['ACTCAT','ACTFINAL','ANENR1617','OBEREG','DOCOTHDEG',\n",
    "                      'DOCPPDEG','DOCRESFLAG','DOCRSDEG','DRSA&S','DRSPROF',\n",
    "                      'FACNUM','NSAT','PDNFRSTAFF','S&ER&D','NONS&ER&D',\n",
    "                      'HUM_RSD','SOCSC_RSD','STEM_RSD','OTHER_RSD','TOTDEG']\n",
    "cn=['R1', 'R2']\n",
    "fig, axes = pyplot.subplots(nrows = 1,ncols = 1,figsize = (4,4), dpi=300)\n",
    "tree.plot_tree(model_dt,\n",
    "               feature_names = fn, \n",
    "               class_names=cn,\n",
    "               filled = True);\n",
    "fig.savefig('imagename.png')"
   ]
  },
  {
   "cell_type": "markdown",
   "metadata": {},
   "source": [
    "## Random forest"
   ]
  },
  {
   "cell_type": "markdown",
   "metadata": {},
   "source": [
    "Decision tree method classifies the dependent variables into different categories using input features. Gini impurity measures how often a randomly chosen element from the set would be incorrectly labeled if it was randomly labeled according to the distribution of labels in the subset. We can use Gini impurity index to form a loss function as the sum of the Gini indices of the two nodes.\n",
    "\n",
    "The random forest method improves on the decision tree method by including multiple trees and de-correlating the trees:\n",
    "\n",
    "-\tBuild several decision trees on bootstrapped training samples\n",
    "-\tEach time a split in the tree is considered, a random sample of m predictors is chosen\n"
   ]
  },
  {
   "cell_type": "code",
   "execution_count": 7,
   "metadata": {},
   "outputs": [
    {
     "name": "stdout",
     "output_type": "stream",
     "text": [
      "Feature: 0, Score: 0.00284\n",
      "Feature: 1, Score: 0.01642\n",
      "Feature: 2, Score: 0.00544\n",
      "Feature: 3, Score: 0.00438\n",
      "Feature: 4, Score: 0.00015\n",
      "Feature: 5, Score: 0.00831\n",
      "Feature: 6, Score: 0.00000\n",
      "Feature: 7, Score: 0.09284\n",
      "Feature: 8, Score: 0.24681\n",
      "Feature: 9, Score: 0.00500\n",
      "Feature: 10, Score: 0.10825\n",
      "Feature: 11, Score: 0.00468\n",
      "Feature: 12, Score: 0.07127\n",
      "Feature: 13, Score: 0.10022\n",
      "Feature: 14, Score: 0.06155\n",
      "Feature: 15, Score: 0.02583\n",
      "Feature: 16, Score: 0.04155\n",
      "Feature: 17, Score: 0.16327\n",
      "Feature: 18, Score: 0.00518\n",
      "Feature: 19, Score: 0.03602\n"
     ]
    },
    {
     "data": {
      "image/png": "[encoded data removed]",
      "text/plain": [
       "<Figure size 640x480 with 1 Axes>"
      ]
     },
     "metadata": {},
     "output_type": "display_data"
    }
   ],
   "source": [
    "model_rf = RandomForestClassifier()\n",
    "# fit the model\n",
    "model_rf.fit(X_train_dt, y_train_dt)\n",
    "# get importance\n",
    "RF_importance = model_rf.feature_importances_\n",
    "# summarize feature importance\n",
    "for i,v in enumerate(RF_importance):\n",
    "\tprint('Feature: %0d, Score: %.5f' % (i,v))\n",
    "# plot feature importance\n",
    "pyplot.bar([x for x in range(len(RF_importance))], RF_importance)\n",
    "pyplot.show()\n"
   ]
  },
  {
   "cell_type": "code",
   "execution_count": 11,
   "metadata": {},
   "outputs": [
    {
     "name": "stdout",
     "output_type": "stream",
     "text": [
      "    RF importance\n",
      "0        0.005342\n",
      "1        0.016555\n",
      "2        0.009826\n",
      "3        0.004912\n",
      "4        0.000000\n",
      "5        0.004770\n",
      "6        0.000000\n",
      "7        0.133723\n",
      "8        0.225334\n",
      "9        0.006503\n",
      "10       0.041128\n",
      "11       0.006156\n",
      "12       0.107338\n",
      "13       0.118593\n",
      "14       0.063121\n",
      "15       0.030287\n",
      "16       0.045393\n",
      "17       0.154526\n",
      "18       0.007064\n",
      "19       0.019426\n"
     ]
    }
   ],
   "source": [
    "RF_table = {'RF importance': RF_importance}\n",
    "\n",
    "RF_table_df = pd.DataFrame(RF_table, columns = ['RF importance'])\n",
    "\n",
    "print (RF_table_df)"
   ]
  },
  {
   "cell_type": "markdown",
   "metadata": {},
   "source": [
    "## XGBoost"
   ]
  },
  {
   "cell_type": "markdown",
   "metadata": {},
   "source": [
    "The model is an implementation of gradient boosted decision trees. The method learns one model at a time and uses the previous model’s results when learning the new model. The model adjusts the weights and updates accordingly after each learning round."
   ]
  },
  {
   "cell_type": "code",
   "execution_count": 12,
   "metadata": {},
   "outputs": [
    {
     "name": "stdout",
     "output_type": "stream",
     "text": [
      "[11:44:38] WARNING: ..\\src\\learner.cc:1061: Starting in XGBoost 1.3.0, the default evaluation metric used with the objective 'binary:logistic' was changed from 'error' to 'logloss'. Explicitly set eval_metric if you'd like to restore the old behavior.\n",
      "Feature: 0, Score: 0.00000\n",
      "Feature: 1, Score: 0.00000\n",
      "Feature: 2, Score: 0.00000\n",
      "Feature: 3, Score: 0.01038\n",
      "Feature: 4, Score: 0.00000\n",
      "Feature: 5, Score: 0.00000\n",
      "Feature: 6, Score: 0.00000\n",
      "Feature: 7, Score: 0.05047\n",
      "Feature: 8, Score: 0.66738\n",
      "Feature: 9, Score: 0.05374\n",
      "Feature: 10, Score: 0.01072\n",
      "Feature: 11, Score: 0.00000\n",
      "Feature: 12, Score: 0.05744\n",
      "Feature: 13, Score: 0.06729\n",
      "Feature: 14, Score: 0.04755\n",
      "Feature: 15, Score: 0.01972\n",
      "Feature: 16, Score: 0.00000\n",
      "Feature: 17, Score: 0.01374\n",
      "Feature: 18, Score: 0.00000\n",
      "Feature: 19, Score: 0.00156\n"
     ]
    },
    {
     "name": "stderr",
     "output_type": "stream",
     "text": [
      "C:\\Users\\mbui\\Anaconda3\\lib\\site-packages\\xgboost\\sklearn.py:888: UserWarning: The use of label encoder in XGBClassifier is deprecated and will be removed in a future release. To remove this warning, do the following: 1) Pass option use_label_encoder=False when constructing XGBClassifier object; and 2) Encode your labels (y) as integers starting with 0, i.e. 0, 1, 2, ..., [num_class - 1].\n",
      "  warnings.warn(label_encoder_deprecation_msg, UserWarning)\n"
     ]
    },
    {
     "data": {
      "image/png": "[encoded data removed]",
      "text/plain": [
       "<Figure size 640x480 with 1 Axes>"
      ]
     },
     "metadata": {},
     "output_type": "display_data"
    }
   ],
   "source": [
    "model_xg = XGBClassifier()\n",
    "# fit the model\n",
    "model_xg.fit(X_train, y_train)\n",
    "# get importance\n",
    "XG_importance = model_xg.feature_importances_\n",
    "# summarize feature importance\n",
    "for i,v in enumerate(XG_importance):\n",
    "\tprint('Feature: %0d, Score: %.5f' % (i,v))\n",
    "# plot feature importance\n",
    "pyplot.bar([x for x in range(len(XG_importance))], XG_importance)\n",
    "pyplot.show()"
   ]
  },
  {
   "cell_type": "code",
   "execution_count": 13,
   "metadata": {
    "scrolled": true
   },
   "outputs": [
    {
     "name": "stdout",
     "output_type": "stream",
     "text": [
      "    XG importance\n",
      "0        0.000000\n",
      "1        0.000000\n",
      "2        0.000000\n",
      "3        0.010383\n",
      "4        0.000000\n",
      "5        0.000000\n",
      "6        0.000000\n",
      "7        0.050471\n",
      "8        0.667384\n",
      "9        0.053744\n",
      "10       0.010720\n",
      "11       0.000000\n",
      "12       0.057439\n",
      "13       0.067287\n",
      "14       0.047549\n",
      "15       0.019724\n",
      "16       0.000000\n",
      "17       0.013740\n",
      "18       0.000000\n",
      "19       0.001559\n"
     ]
    }
   ],
   "source": [
    "XG_table = {'XG importance': XG_importance}\n",
    "\n",
    "XG_table_df = pd.DataFrame(XG_table, columns = ['XG importance'])\n",
    "\n",
    "print (XG_table_df)"
   ]
  },
  {
   "cell_type": "code",
   "execution_count": 14,
   "metadata": {
    "scrolled": true
   },
   "outputs": [
    {
     "name": "stdout",
     "output_type": "stream",
     "text": [
      "       Feature  Decision tree  Random forest   XGBoost\n",
      "8       DRSA&S       0.812142       0.225334  0.667384\n",
      "12  PDNFRSTAFF       0.094382       0.107338  0.057439\n",
      "14   NONS&ER&D       0.078918       0.063121  0.047549\n",
      "1     ACTFINAL       0.014558       0.016555  0.000000\n",
      "17    STEM_RSD       0.000000       0.154526  0.013740\n",
      "7     DOCRSDEG       0.000000       0.133723  0.050471\n",
      "13      S&ER&D       0.000000       0.118593  0.067287\n",
      "16   SOCSC_RSD       0.000000       0.045393  0.000000\n",
      "10      FACNUM       0.000000       0.041128  0.010720\n",
      "15     HUM_RSD       0.000000       0.030287  0.019724\n",
      "19      TOTDEG       0.000000       0.019426  0.001559\n",
      "2    ANENR1617       0.000000       0.009826  0.000000\n",
      "18   OTHER_RSD       0.000000       0.007064  0.000000\n",
      "9      DRSPROF       0.000000       0.006503  0.053744\n",
      "11        NSAT       0.000000       0.006156  0.000000\n",
      "0       ACTCAT       0.000000       0.005342  0.000000\n",
      "3       OBEREG       0.000000       0.004912  0.010383\n",
      "5     DOCPPDEG       0.000000       0.004770  0.000000\n",
      "4    DOCOTHDEG       0.000000       0.000000  0.000000\n",
      "6   DOCRESFLAG       0.000000       0.000000  0.000000\n"
     ]
    }
   ],
   "source": [
    "table = {'Feature': X_train.columns,'Decision tree': dt_importance, 'Random forest': RF_importance,'XGBoost': XG_importance}\n",
    "\n",
    "table_df = pd.DataFrame(table, columns = ['Feature','Decision tree', 'Random forest','XGBoost']).sort_values(by=['Decision tree','Random forest','XGBoost'],ascending=False)\n",
    "\n",
    "print (table_df)\n",
    "table_df.to_csv(r'feature_importance.csv', index = True, header=True)"
   ]
  },
  {
   "cell_type": "markdown",
   "metadata": {},
   "source": [
    "# Model evaluation"
   ]
  },
  {
   "cell_type": "code",
   "execution_count": 14,
   "metadata": {},
   "outputs": [
    {
     "data": {
      "text/plain": [
       "(279, 102)"
      ]
     },
     "execution_count": 14,
     "metadata": {},
     "output_type": "execute_result"
    }
   ],
   "source": [
    "data_test = pd.read_excel('CCIHE2021-PublicData.xlsx',sheet_name='Data')  \n",
    "data_test = data_test.loc[(data_test.basic2021 == 15) | (data_test.basic2021 == 16)]\n",
    "data_test['class']=data_test['basic2021']\n",
    "data_test.shape"
   ]
  },
  {
   "cell_type": "code",
   "execution_count": 9,
   "metadata": {},
   "outputs": [],
   "source": [
    "X_test = data_test.loc[:,[word.lower() for word in ['SELINDEX','ACTFINAL','ANENR1920','OBEREG','DOCOTHDEG',\n",
    "                      'DOCPPDEG','DOCRESFLAG','DOCRSDEG','DRSAS','DRSPROF',\n",
    "                      'FACNUM','NSAT','PDNFRSTAFF','SERD','NONSERD',\n",
    "                      'HUM_RSD','SOCSC_RSD','STEM_RSD','OTH_RSD','TOTDEG']]]\n",
    "X_test.columns =[['ACTCAT','ACTFINAL','ANENR1617','OBEREG','DOCOTHDEG',\n",
    "                      'DOCPPDEG','DOCRESFLAG','DOCRSDEG','DRSA&S','DRSPROF',\n",
    "                      'FACNUM','NSAT','PDNFRSTAFF','S&ER&D','NONS&ER&D',\n",
    "                      'HUM_RSD','SOCSC_RSD','STEM_RSD','OTHER_RSD','TOTDEG']]\n",
    "y_test = data_test.loc[:,'class']"
   ]
  },
  {
   "cell_type": "code",
   "execution_count": 15,
   "metadata": {},
   "outputs": [
    {
     "data": {
      "text/html": [
       "<div>\n",
       "<style scoped>\n",
       "    .dataframe tbody tr th:only-of-type {\n",
       "        vertical-align: middle;\n",
       "    }\n",
       "\n",
       "    .dataframe tbody tr th {\n",
       "        vertical-align: top;\n",
       "    }\n",
       "\n",
       "    .dataframe thead th {\n",
       "        text-align: right;\n",
       "    }\n",
       "</style>\n",
       "<table border=\"1\" class=\"dataframe\">\n",
       "  <thead>\n",
       "    <tr style=\"text-align: right;\">\n",
       "      <th></th>\n",
       "      <th>Decision tree</th>\n",
       "      <th>Random forest</th>\n",
       "      <th>XGBoost</th>\n",
       "    </tr>\n",
       "  </thead>\n",
       "  <tbody>\n",
       "    <tr>\n",
       "      <th>28</th>\n",
       "      <td>15</td>\n",
       "      <td>16</td>\n",
       "      <td>15</td>\n",
       "    </tr>\n",
       "    <tr>\n",
       "      <th>34</th>\n",
       "      <td>15</td>\n",
       "      <td>16</td>\n",
       "      <td>15</td>\n",
       "    </tr>\n",
       "    <tr>\n",
       "      <th>76</th>\n",
       "      <td>15</td>\n",
       "      <td>16</td>\n",
       "      <td>15</td>\n",
       "    </tr>\n",
       "    <tr>\n",
       "      <th>93</th>\n",
       "      <td>15</td>\n",
       "      <td>16</td>\n",
       "      <td>15</td>\n",
       "    </tr>\n",
       "    <tr>\n",
       "      <th>97</th>\n",
       "      <td>15</td>\n",
       "      <td>16</td>\n",
       "      <td>15</td>\n",
       "    </tr>\n",
       "    <tr>\n",
       "      <th>102</th>\n",
       "      <td>16</td>\n",
       "      <td>15</td>\n",
       "      <td>16</td>\n",
       "    </tr>\n",
       "    <tr>\n",
       "      <th>161</th>\n",
       "      <td>16</td>\n",
       "      <td>15</td>\n",
       "      <td>15</td>\n",
       "    </tr>\n",
       "    <tr>\n",
       "      <th>194</th>\n",
       "      <td>15</td>\n",
       "      <td>16</td>\n",
       "      <td>16</td>\n",
       "    </tr>\n",
       "    <tr>\n",
       "      <th>205</th>\n",
       "      <td>15</td>\n",
       "      <td>16</td>\n",
       "      <td>15</td>\n",
       "    </tr>\n",
       "    <tr>\n",
       "      <th>207</th>\n",
       "      <td>15</td>\n",
       "      <td>16</td>\n",
       "      <td>15</td>\n",
       "    </tr>\n",
       "    <tr>\n",
       "      <th>209</th>\n",
       "      <td>15</td>\n",
       "      <td>16</td>\n",
       "      <td>16</td>\n",
       "    </tr>\n",
       "    <tr>\n",
       "      <th>228</th>\n",
       "      <td>15</td>\n",
       "      <td>16</td>\n",
       "      <td>15</td>\n",
       "    </tr>\n",
       "    <tr>\n",
       "      <th>233</th>\n",
       "      <td>15</td>\n",
       "      <td>16</td>\n",
       "      <td>16</td>\n",
       "    </tr>\n",
       "  </tbody>\n",
       "</table>\n",
       "</div>"
      ],
      "text/plain": [
       "     Decision tree  Random forest  XGBoost\n",
       "28              15             16       15\n",
       "34              15             16       15\n",
       "76              15             16       15\n",
       "93              15             16       15\n",
       "97              15             16       15\n",
       "102             16             15       16\n",
       "161             16             15       15\n",
       "194             15             16       16\n",
       "205             15             16       15\n",
       "207             15             16       15\n",
       "209             15             16       16\n",
       "228             15             16       15\n",
       "233             15             16       16"
      ]
     },
     "execution_count": 15,
     "metadata": {},
     "output_type": "execute_result"
    }
   ],
   "source": [
    "y_pred_dt = model_dt.predict(X_test)\n",
    "y_pred_rf = model_rf.predict(X_test)\n",
    "y_pred_xg = model_xg.predict(X_test)\n",
    "table = {'Decision tree': y_pred_dt, 'Random forest': y_pred_rf,'XGBoost': y_pred_xg}\n",
    "table_df = pd.DataFrame(table, columns = ['Decision tree', 'Random forest','XGBoost'])\n",
    "table_df.loc[table_df['Decision tree']!=table_df['Random forest']]\n"
   ]
  },
  {
   "cell_type": "code",
   "execution_count": 18,
   "metadata": {},
   "outputs": [],
   "source": [
    "#Only 8 out of 279 variables have different predictions, less than 3 percent. \n",
    "#All three models have accuracy rate up to 95 percent, with the highest accuracy rate in the XGBoost method of about 96 percent\n"
   ]
  },
  {
   "cell_type": "code",
   "execution_count": 16,
   "metadata": {},
   "outputs": [
    {
     "data": {
      "text/plain": [
       "0.942652329749104"
      ]
     },
     "execution_count": 16,
     "metadata": {},
     "output_type": "execute_result"
    }
   ],
   "source": [
    "accuracy_dt = metrics.accuracy_score(y_test,y_pred_dt)\n",
    "accuracy_rf = metrics.accuracy_score(y_test,y_pred_rf)\n",
    "accuracy_xg = metrics.accuracy_score(y_test,y_pred_xg)\n",
    "accuracy_rf"
   ]
  }
 ],
 "metadata": {
  "kernelspec": {
   "display_name": "Python 3",
   "language": "python",
   "name": "python3"
  },
  "language_info": {
   "codemirror_mode": {
    "name": "ipython",
    "version": 3
   },
   "file_extension": ".py",
   "mimetype": "text/x-python",
   "name": "python",
   "nbconvert_exporter": "python",
   "pygments_lexer": "ipython3",
   "version": "3.8.11"
  }
 },
 "nbformat": 4,
 "nbformat_minor": 2
}
